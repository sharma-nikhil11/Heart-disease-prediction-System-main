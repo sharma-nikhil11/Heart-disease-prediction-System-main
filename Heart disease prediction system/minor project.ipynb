{
 "cells": [
  {
   "cell_type": "markdown",
   "id": "c5203a13",
   "metadata": {},
   "source": [
    "# Hybridization of multiple Models by Linear Averaging "
   ]
  },
  {
   "cell_type": "code",
   "execution_count": 17,
   "id": "d4ae6458",
   "metadata": {},
   "outputs": [
    {
     "data": {
      "text/html": [
       "<div>\n",
       "<style scoped>\n",
       "    .dataframe tbody tr th:only-of-type {\n",
       "        vertical-align: middle;\n",
       "    }\n",
       "\n",
       "    .dataframe tbody tr th {\n",
       "        vertical-align: top;\n",
       "    }\n",
       "\n",
       "    .dataframe thead th {\n",
       "        text-align: right;\n",
       "    }\n",
       "</style>\n",
       "<table border=\"1\" class=\"dataframe\">\n",
       "  <thead>\n",
       "    <tr style=\"text-align: right;\">\n",
       "      <th></th>\n",
       "      <th>age</th>\n",
       "      <th>sex</th>\n",
       "      <th>cp</th>\n",
       "      <th>trestbps</th>\n",
       "      <th>chol</th>\n",
       "      <th>fbs</th>\n",
       "      <th>restecg</th>\n",
       "      <th>thalach</th>\n",
       "      <th>exang</th>\n",
       "      <th>oldpeak</th>\n",
       "      <th>slope</th>\n",
       "      <th>ca</th>\n",
       "      <th>thal</th>\n",
       "      <th>target</th>\n",
       "    </tr>\n",
       "  </thead>\n",
       "  <tbody>\n",
       "    <tr>\n",
       "      <th>0</th>\n",
       "      <td>52</td>\n",
       "      <td>1</td>\n",
       "      <td>0</td>\n",
       "      <td>125</td>\n",
       "      <td>212</td>\n",
       "      <td>0</td>\n",
       "      <td>1</td>\n",
       "      <td>168</td>\n",
       "      <td>0</td>\n",
       "      <td>1.0</td>\n",
       "      <td>2</td>\n",
       "      <td>2</td>\n",
       "      <td>3</td>\n",
       "      <td>0</td>\n",
       "    </tr>\n",
       "    <tr>\n",
       "      <th>1</th>\n",
       "      <td>53</td>\n",
       "      <td>1</td>\n",
       "      <td>0</td>\n",
       "      <td>140</td>\n",
       "      <td>203</td>\n",
       "      <td>1</td>\n",
       "      <td>0</td>\n",
       "      <td>155</td>\n",
       "      <td>1</td>\n",
       "      <td>3.1</td>\n",
       "      <td>0</td>\n",
       "      <td>0</td>\n",
       "      <td>3</td>\n",
       "      <td>0</td>\n",
       "    </tr>\n",
       "    <tr>\n",
       "      <th>2</th>\n",
       "      <td>70</td>\n",
       "      <td>1</td>\n",
       "      <td>0</td>\n",
       "      <td>145</td>\n",
       "      <td>174</td>\n",
       "      <td>0</td>\n",
       "      <td>1</td>\n",
       "      <td>125</td>\n",
       "      <td>1</td>\n",
       "      <td>2.6</td>\n",
       "      <td>0</td>\n",
       "      <td>0</td>\n",
       "      <td>3</td>\n",
       "      <td>0</td>\n",
       "    </tr>\n",
       "    <tr>\n",
       "      <th>3</th>\n",
       "      <td>61</td>\n",
       "      <td>1</td>\n",
       "      <td>0</td>\n",
       "      <td>148</td>\n",
       "      <td>203</td>\n",
       "      <td>0</td>\n",
       "      <td>1</td>\n",
       "      <td>161</td>\n",
       "      <td>0</td>\n",
       "      <td>0.0</td>\n",
       "      <td>2</td>\n",
       "      <td>1</td>\n",
       "      <td>3</td>\n",
       "      <td>0</td>\n",
       "    </tr>\n",
       "    <tr>\n",
       "      <th>4</th>\n",
       "      <td>62</td>\n",
       "      <td>0</td>\n",
       "      <td>0</td>\n",
       "      <td>138</td>\n",
       "      <td>294</td>\n",
       "      <td>1</td>\n",
       "      <td>1</td>\n",
       "      <td>106</td>\n",
       "      <td>0</td>\n",
       "      <td>1.9</td>\n",
       "      <td>1</td>\n",
       "      <td>3</td>\n",
       "      <td>2</td>\n",
       "      <td>0</td>\n",
       "    </tr>\n",
       "  </tbody>\n",
       "</table>\n",
       "</div>"
      ],
      "text/plain": [
       "   age  sex  cp  trestbps  chol  fbs  restecg  thalach  exang  oldpeak  slope  \\\n",
       "0   52    1   0       125   212    0        1      168      0      1.0      2   \n",
       "1   53    1   0       140   203    1        0      155      1      3.1      0   \n",
       "2   70    1   0       145   174    0        1      125      1      2.6      0   \n",
       "3   61    1   0       148   203    0        1      161      0      0.0      2   \n",
       "4   62    0   0       138   294    1        1      106      0      1.9      1   \n",
       "\n",
       "   ca  thal  target  \n",
       "0   2     3       0  \n",
       "1   0     3       0  \n",
       "2   0     3       0  \n",
       "3   1     3       0  \n",
       "4   3     2       0  "
      ]
     },
     "execution_count": 17,
     "metadata": {},
     "output_type": "execute_result"
    }
   ],
   "source": [
    "import pandas as pd\n",
    "import numpy as np\n",
    "import seaborn\n",
    "import matplotlib.pyplot as plt\n",
    "\n",
    "df=pd.read_csv(\"data.csv\")\n",
    "df.head()\n",
    "\n"
   ]
  },
  {
   "cell_type": "markdown",
   "id": "1703c0da",
   "metadata": {},
   "source": [
    "# Spliting dependent and independent variable"
   ]
  },
  {
   "cell_type": "code",
   "execution_count": 18,
   "id": "bf9a25f8",
   "metadata": {},
   "outputs": [],
   "source": [
    "x= df.iloc[:, 0:13]\n",
    "y= df.iloc[:, 13].values"
   ]
  },
  {
   "cell_type": "markdown",
   "id": "4d2bc6de",
   "metadata": {},
   "source": [
    "# Spliting traning and testing dataset"
   ]
  },
  {
   "cell_type": "code",
   "execution_count": 19,
   "id": "a9df283e",
   "metadata": {},
   "outputs": [],
   "source": [
    "from sklearn.model_selection import train_test_split  \n",
    "x_train, x_test, y_train, y_test= train_test_split(x, y, test_size= 0.3, random_state=12)"
   ]
  },
  {
   "cell_type": "markdown",
   "id": "014896ba",
   "metadata": {},
   "source": [
    "# Scaling the test data and creating empty lists"
   ]
  },
  {
   "cell_type": "code",
   "execution_count": 20,
   "id": "a26f20c8",
   "metadata": {},
   "outputs": [
    {
     "name": "stdout",
     "output_type": "stream",
     "text": [
      "[[ 0.1586933   0.69162889  0.06797935 ... -2.29561849 -0.75174546\n",
      "  -0.56822375]\n",
      " [-0.91777878 -1.44586211  1.04280319 ... -2.29561849 -0.75174546\n",
      "  -0.56822375]\n",
      " [ 0.80457655 -1.44586211  1.04280319 ... -0.65294538  0.20733193\n",
      "   1.09470045]\n",
      " ...\n",
      " [ 1.34281259  0.69162889 -0.90684449 ... -0.65294538  2.12548672\n",
      "  -0.56822375]\n",
      " [ 1.01987097  0.69162889 -0.90684449 ... -0.65294538  0.20733193\n",
      "   1.09470045]\n",
      " [ 0.37398772  0.69162889  1.04280319 ...  0.98972773 -0.75174546\n",
      "  -0.56822375]]\n"
     ]
    }
   ],
   "source": [
    "from sklearn.preprocessing import StandardScaler\n",
    "  \n",
    "sc_x = StandardScaler()\n",
    "x_train = sc_x.fit_transform(x_train)\n",
    "x_test = sc_x.transform(x_test)\n",
    "print(x_test)\n",
    "\n",
    "acc=[]\n",
    "rec=[]\n",
    "pre=[]\n",
    "f1 =[]"
   ]
  },
  {
   "cell_type": "markdown",
   "id": "8f078b9e",
   "metadata": {},
   "source": [
    "# Logistic regression"
   ]
  },
  {
   "cell_type": "code",
   "execution_count": 21,
   "id": "3542a38f",
   "metadata": {},
   "outputs": [
    {
     "name": "stdout",
     "output_type": "stream",
     "text": [
      "Confusion Matrix : \n",
      " [[115  32]\n",
      " [ 22 139]]\n",
      "Accuracy :  0.8246753246753247\n",
      "Recall :  0.8633540372670807\n",
      "precision :  0.8128654970760234\n",
      "F1_measure:  0.8373493975903614\n"
     ]
    }
   ],
   "source": [
    "from sklearn.linear_model import LogisticRegression\n",
    "from sklearn.metrics import recall_score\n",
    "from sklearn.metrics import f1_score\n",
    "from sklearn.metrics import precision_score\n",
    "  \n",
    "classifier = LogisticRegression(random_state = 0)\n",
    "classifier.fit(x_train, y_train)\n",
    "\n",
    "\n",
    "y_pred = classifier.predict(x_test)\n",
    "\n",
    "\n",
    "from sklearn.metrics import confusion_matrix\n",
    "  \n",
    "cm = confusion_matrix(y_test, y_pred)\n",
    "print (\"Confusion Matrix : \\n\", cm)\n",
    "\n",
    "\n",
    "from sklearn.metrics import accuracy_score\n",
    "  \n",
    "print (\"Accuracy : \", accuracy_score(y_test, y_pred))\n",
    "print (\"Recall : \", recall_score(y_test, y_pred))\n",
    "print (\"precision : \", precision_score(y_test, y_pred))\n",
    "print (\"F1_measure: \", f1_score(y_test, y_pred))\n",
    "\n",
    "acc.append( accuracy_score(y_test, y_pred))\n",
    "pre.append(precision_score(y_test, y_pred))\n",
    "rec.append(recall_score(y_test, y_pred))\n",
    "f1.append(f1_score(y_test , y_pred))\n",
    "\n",
    "\n",
    "\n",
    "\n"
   ]
  },
  {
   "cell_type": "markdown",
   "id": "2592eb11",
   "metadata": {},
   "source": [
    "# KNN witn n=1"
   ]
  },
  {
   "cell_type": "code",
   "execution_count": 22,
   "id": "57f9b2c4",
   "metadata": {},
   "outputs": [
    {
     "name": "stdout",
     "output_type": "stream",
     "text": [
      "Confusion Matrix : \n",
      " [[133  14]\n",
      " [ 29 132]]\n",
      "Confusion Matrix : \n",
      " [[141   6]\n",
      " [  0 161]]\n",
      "Accuracy with k=5 0.8603896103896104\n",
      "Accuracy with k=1 0.9805194805194806\n",
      "Recall :  1.0\n",
      "precision :  0.9640718562874252\n",
      "F1_measure:  0.9817073170731708\n"
     ]
    }
   ],
   "source": [
    "from sklearn.neighbors import KNeighborsClassifier\n",
    "\n",
    "knn5 = KNeighborsClassifier(n_neighbors = 5)\n",
    "knn1 = KNeighborsClassifier(n_neighbors=1)\n",
    "\n",
    "knn5.fit(x_train, y_train)\n",
    "knn1.fit(x_train, y_train)\n",
    "\n",
    "y_pred_5 = knn5.predict(x_test)\n",
    "y_pred_1 = knn1.predict(x_test)\n",
    "\n",
    "cm = confusion_matrix(y_test, y_pred_5)\n",
    "print (\"Confusion Matrix : \\n\", cm)\n",
    "\n",
    "cm = confusion_matrix(y_test, y_pred_1)\n",
    "print (\"Confusion Matrix : \\n\", cm)\n",
    "\n",
    "from sklearn.metrics import accuracy_score\n",
    "print(\"Accuracy with k=5\", accuracy_score(y_test, y_pred_5))\n",
    "print(\"Accuracy with k=1\", accuracy_score(y_test, y_pred_1))\n",
    "print (\"Recall : \", recall_score(y_test, y_pred_1))\n",
    "print (\"precision : \", precision_score(y_test, y_pred_1))\n",
    "print (\"F1_measure: \", f1_score(y_test, y_pred_1))\n",
    "\n",
    "acc.append( accuracy_score(y_test, y_pred_1))\n",
    "pre.append(precision_score(y_test, y_pred_1))\n",
    "rec.append(recall_score(y_test, y_pred_1))\n",
    "f1.append(f1_score(y_test , y_pred_1))\n",
    "\n",
    "#k=1 model is selected"
   ]
  },
  {
   "cell_type": "markdown",
   "id": "f236cdc0",
   "metadata": {},
   "source": [
    "# Random forest"
   ]
  },
  {
   "cell_type": "code",
   "execution_count": 23,
   "id": "21457a8c",
   "metadata": {},
   "outputs": [
    {
     "name": "stdout",
     "output_type": "stream",
     "text": [
      "Confusion Matrix : \n",
      " [[143   4]\n",
      " [  0 161]]\n",
      "Accuracy :  0.987012987012987\n",
      "Recall :  1.0\n",
      "precision :  0.9757575757575757\n",
      "F1_measure:  0.9877300613496933\n"
     ]
    }
   ],
   "source": [
    "from sklearn.ensemble import RandomForestClassifier\n",
    "rfc = RandomForestClassifier()\n",
    "rfc.fit(x_train, y_train)\n",
    "y_pred_rf = rfc.predict(x_test)\n",
    "\n",
    "cm = confusion_matrix(y_test, y_pred_rf)\n",
    "print (\"Confusion Matrix : \\n\", cm)\n",
    "\n",
    "print (\"Accuracy : \", accuracy_score(y_test, y_pred_rf))\n",
    "print (\"Recall : \", recall_score(y_test, y_pred_rf))\n",
    "print (\"precision : \", precision_score(y_test, y_pred_rf))\n",
    "print (\"F1_measure: \", f1_score(y_test, y_pred_rf))\n",
    "\n",
    "acc.append( accuracy_score(y_test, y_pred_rf))\n",
    "pre.append(precision_score(y_test, y_pred_rf))\n",
    "rec.append(recall_score(y_test, y_pred_rf))\n",
    "f1.append(f1_score(y_test , y_pred_rf))"
   ]
  },
  {
   "cell_type": "markdown",
   "id": "ad0ffdfb",
   "metadata": {},
   "source": [
    "# Support Vector Machine"
   ]
  },
  {
   "cell_type": "code",
   "execution_count": 24,
   "id": "fc4c1758",
   "metadata": {},
   "outputs": [
    {
     "name": "stdout",
     "output_type": "stream",
     "text": [
      "Confusion Matrix : \n",
      " [[134  13]\n",
      " [ 15 146]]\n",
      "Accuracy :  0.9090909090909091\n",
      "Recall :  0.906832298136646\n",
      "precision :  0.9182389937106918\n",
      "F1_measure:  0.9125000000000001\n"
     ]
    }
   ],
   "source": [
    "from sklearn.svm import SVC\n",
    "svc = SVC()\n",
    "svc.fit(x_train, y_train)\n",
    "y_pred_svm = svc.predict(x_test)\n",
    "\n",
    "cm = confusion_matrix(y_test, y_pred_svm)\n",
    "print (\"Confusion Matrix : \\n\", cm)\n",
    "\n",
    "print (\"Accuracy : \", accuracy_score(y_test, y_pred_svm))\n",
    "print (\"Recall : \", recall_score(y_test, y_pred_svm))\n",
    "print (\"precision : \", precision_score(y_test, y_pred_svm))\n",
    "print (\"F1_measure: \", f1_score(y_test, y_pred_svm))\n",
    "\n",
    "acc.append( accuracy_score(y_test, y_pred_svm))\n",
    "pre.append(precision_score(y_test, y_pred_svm))\n",
    "rec.append(recall_score(y_test, y_pred_svm))\n",
    "f1.append(f1_score(y_test , y_pred_svm))"
   ]
  },
  {
   "cell_type": "markdown",
   "id": "78c70691",
   "metadata": {},
   "source": [
    "# Naive Bayes"
   ]
  },
  {
   "cell_type": "code",
   "execution_count": 25,
   "id": "c613c18a",
   "metadata": {},
   "outputs": [
    {
     "name": "stdout",
     "output_type": "stream",
     "text": [
      "Confusion Matrix : \n",
      " [[108  39]\n",
      " [ 34 127]]\n",
      "Accuracy :  0.762987012987013\n",
      "Recall :  0.7888198757763976\n",
      "precision :  0.7650602409638554\n",
      "F1_measure:  0.7767584097859327\n"
     ]
    }
   ],
   "source": [
    "from sklearn.naive_bayes import GaussianNB\n",
    "gnb = GaussianNB()\n",
    "gnb.fit(x_train, y_train)\n",
    "y_pred_nb = gnb.predict(x_test)\n",
    "\n",
    "cm = confusion_matrix(y_test, y_pred_nb)\n",
    "print (\"Confusion Matrix : \\n\", cm)\n",
    "\n",
    "print (\"Accuracy : \", accuracy_score(y_test, y_pred_nb))\n",
    "print (\"Recall : \", recall_score(y_test, y_pred_nb))\n",
    "print (\"precision : \", precision_score(y_test, y_pred_nb))\n",
    "print (\"F1_measure: \", f1_score(y_test, y_pred_nb))\n",
    "\n",
    "acc.append( accuracy_score(y_test, y_pred_nb))\n",
    "pre.append(precision_score(y_test, y_pred_nb))\n",
    "rec.append(recall_score(y_test, y_pred_nb))\n",
    "f1.append(f1_score(y_test , y_pred_nb))"
   ]
  },
  {
   "cell_type": "markdown",
   "id": "2671d34c",
   "metadata": {},
   "source": [
    "# Decision Tree"
   ]
  },
  {
   "cell_type": "code",
   "execution_count": 26,
   "id": "66a46452",
   "metadata": {
    "scrolled": true
   },
   "outputs": [
    {
     "name": "stdout",
     "output_type": "stream",
     "text": [
      "Confusion Matrix : \n",
      " [[143   4]\n",
      " [  0 161]]\n",
      "Accuracy :  0.987012987012987\n",
      "Recall :  1.0\n",
      "precision :  0.9757575757575757\n",
      "F1_measure:  0.9877300613496933\n"
     ]
    }
   ],
   "source": [
    "from sklearn.tree import DecisionTreeClassifier\n",
    "dtc = DecisionTreeClassifier()\n",
    "dtc.fit(x_train, y_train)\n",
    "y_pred_dt = dtc.predict(x_test)\n",
    "\n",
    "cm = confusion_matrix(y_test, y_pred_dt)\n",
    "print (\"Confusion Matrix : \\n\", cm)\n",
    "\n",
    "print (\"Accuracy : \", accuracy_score(y_test, y_pred_dt))\n",
    "print (\"Recall : \", recall_score(y_test, y_pred_dt))\n",
    "print (\"precision : \", precision_score(y_test, y_pred_dt))\n",
    "print (\"F1_measure: \", f1_score(y_test, y_pred_dt))\n",
    "\n",
    "acc.append( accuracy_score(y_test, y_pred_dt))\n",
    "pre.append(precision_score(y_test, y_pred_dt))\n",
    "rec.append(recall_score(y_test, y_pred_dt))\n",
    "f1.append(f1_score(y_test , y_pred_dt))"
   ]
  },
  {
   "cell_type": "markdown",
   "id": "e17115b4",
   "metadata": {},
   "source": [
    "# Hybridisation of model"
   ]
  },
  {
   "cell_type": "code",
   "execution_count": 27,
   "id": "ee965642",
   "metadata": {},
   "outputs": [
    {
     "name": "stdout",
     "output_type": "stream",
     "text": [
      "[1 1 0 0 1 0 1 0 0 0 1 0 1 0 0 0 1 0 1 1 0 1 0 0 1 1 0 0 1 0 1 0 0 1 1 0 1\n",
      " 1 0 1 1 0 1 1 0 1 1 1 1 0 0 1 1 0 1 1 1 1 0 0 0 1 1 1 1 0 0 1 0 1 0 0 1 0\n",
      " 0 0 1 0 1 0 0 1 1 1 1 0 0 0 1 0 1 1 1 1 1 0 1 1 1 1 1 1 1 0 0 0 0 0 1 0 0\n",
      " 1 0 1 1 1 0 0 0 1 1 1 1 0 0 0 0 0 0 0 1 0 1 1 0 1 1 1 1 0 1 1 1 0 1 1 0 1\n",
      " 0 0 0 0 1 1 1 0 1 1 0 0 1 0 1 1 0 1 0 0 0 1 1 0 1 0 1 0 1 0 1 0 1 1 0 1 0\n",
      " 0 1 1 1 0 0 0 1 0 0 0 1 0 1 0 1 1 1 0 1 1 1 1 1 0 1 0 0 0 0 1 1 1 1 1 1 1\n",
      " 0 1 0 1 0 1 0 1 1 1 0 0 0 1 1 0 1 1 1 0 0 0 0 1 1 0 0 0 1 0 1 1 1 1 0 0 1\n",
      " 0 0 0 0 0 0 1 0 0 0 0 0 0 1 1 1 0 1 1 1 1 0 1 1 0 1 1 0 1 0 1 0 0 1 1 0 0\n",
      " 1 0 0 0 1 0 1 0 1 0 1 1]\n",
      "[1, 1, 0, 0, 1, 0, 1, 0, 0, 0, 1, 0, 1, 0, 0, 0, 1, 0, 1, 1, 0, 1, 0, 0, 1, 1, 0, 0, 1, 0, 1, 1, 0, 1, 1, 0, 1, 1, 0, 1, 1, 1, 1, 1, 0, 1, 1, 1, 1, 0, 0, 1, 1, 0, 1, 1, 1, 1, 0, 0, 0, 1, 1, 1, 1, 0, 0, 1, 0, 1, 0, 0, 1, 0, 0, 0, 1, 0, 1, 0, 0, 1, 1, 1, 1, 0, 0, 0, 1, 0, 1, 1, 1, 1, 1, 0, 1, 1, 1, 1, 1, 1, 1, 0, 0, 0, 0, 0, 1, 0, 0, 1, 0, 1, 1, 1, 0, 0, 0, 1, 1, 1, 1, 0, 0, 0, 0, 0, 0, 0, 1, 0, 1, 1, 0, 1, 1, 1, 1, 0, 1, 1, 1, 0, 1, 1, 0, 1, 0, 0, 0, 0, 1, 1, 1, 0, 1, 1, 0, 0, 1, 0, 1, 1, 0, 1, 0, 0, 0, 1, 1, 0, 1, 0, 1, 0, 1, 0, 1, 0, 1, 1, 0, 1, 0, 0, 1, 1, 1, 0, 0, 0, 1, 0, 0, 0, 1, 0, 1, 0, 1, 1, 1, 0, 1, 1, 1, 1, 1, 0, 1, 0, 0, 0, 0, 1, 1, 1, 1, 1, 1, 1, 0, 1, 0, 1, 0, 1, 0, 1, 1, 1, 0, 0, 0, 1, 1, 0, 1, 1, 1, 0, 0, 0, 0, 1, 1, 0, 0, 0, 1, 1, 1, 1, 1, 1, 0, 0, 1, 0, 0, 0, 0, 0, 0, 1, 0, 1, 0, 0, 0, 0, 1, 1, 1, 0, 1, 1, 1, 1, 0, 1, 1, 0, 1, 1, 0, 1, 0, 1, 0, 0, 1, 1, 0, 0, 1, 0, 0, 0, 1, 0, 1, 0, 1, 0, 1, 1]\n",
      "Confusion Matrix : \n",
      " [[143   4]\n",
      " [  0 161]]\n",
      "Accuracy :  0.987012987012987\n",
      "Recall :  1.0\n",
      "precision :  0.9757575757575757\n",
      "F1_measure:  0.9877300613496933\n"
     ]
    }
   ],
   "source": [
    "sum=0\n",
    "for i in acc:\n",
    "    sum=sum+i\n",
    "y_pred_hb=[]\n",
    "for index in range(0,len(y_test)):\n",
    "    #print(index)\n",
    "    x_test_in=x_test[index]\n",
    "    #print(x_test_in,\"\\n\\n\")\n",
    "    y_test_out=y[index]\n",
    "    #print(\"Actual case - \",y_test_out,\"\\n\\n\")\n",
    "    x_test_in=[x_test_in]\n",
    "    pre=[]\n",
    "    y_pred_lr = classifier.predict(x_test_in)\n",
    "    #print(\"Logistic regresion prediction - \",y_pred_lr)\n",
    "    pre.append(y_pred_lr)\n",
    "    y_pred_1 = knn1.predict(x_test_in)\n",
    "    #print(\"KNN with n=1 prediction - \",y_pred_1)\n",
    "    pre.append(y_pred_1)\n",
    "    y_pred_rf = rfc.predict(x_test_in)\n",
    "    #print(\"Random forest prediction - \",y_pred_rf)\n",
    "    pre.append(y_pred_rf)\n",
    "    y_pred_svm = svc.predict(x_test_in)\n",
    "    #print(\"SVM prediction - \",y_pred_svm)\n",
    "    pre.append(y_pred_svm)\n",
    "    y_pred_nb = gnb.predict(x_test_in)\n",
    "    #print(\"Naive Bayes prediction - \",y_pred_nb)\n",
    "    pre.append(y_pred_nb)\n",
    "    y_pred_dt = dtc.predict(x_test_in)\n",
    "    #print(\"Decision tree prediction - \",y_pred_dt)\n",
    "    pre.append(y_pred_dt)\n",
    "    #hybrid prediction percentage\n",
    "    hb=0\n",
    "    for i in range(0,len(acc)):\n",
    "        hb=hb+acc[i]*pre[i]\n",
    "    hb=(hb/sum)*100\n",
    "    if(hb>=50):\n",
    "        y_pred_hb.append(1)\n",
    "    else:\n",
    "        y_pred_hb.append(0)\n",
    "print(y_test)\n",
    "print(y_pred_hb)\n",
    "cm = confusion_matrix(y_test, y_pred_hb)\n",
    "print (\"Confusion Matrix : \\n\", cm)\n",
    "print (\"Accuracy : \", accuracy_score(y_test, y_pred_hb))\n",
    "print (\"Recall : \", recall_score(y_test, y_pred_hb))\n",
    "print (\"precision : \", precision_score(y_test, y_pred_hb))\n",
    "print (\"F1_measure: \", f1_score(y_test, y_pred_hb))\n",
    "acc.append( accuracy_score(y_test, y_pred_hb))\n",
    "pre.append(precision_score(y_test, y_pred_hb))\n",
    "rec.append(recall_score(y_test, y_pred_hb))\n",
    "f1.append(f1_score(y_test , y_pred_hb))"
   ]
  }
 ],
 "metadata": {
  "kernelspec": {
   "display_name": "Python 3 (ipykernel)",
   "language": "python",
   "name": "python3"
  },
  "language_info": {
   "codemirror_mode": {
    "name": "ipython",
    "version": 3
   },
   "file_extension": ".py",
   "mimetype": "text/x-python",
   "name": "python",
   "nbconvert_exporter": "python",
   "pygments_lexer": "ipython3",
   "version": "3.9.12"
  }
 },
 "nbformat": 4,
 "nbformat_minor": 5
}
